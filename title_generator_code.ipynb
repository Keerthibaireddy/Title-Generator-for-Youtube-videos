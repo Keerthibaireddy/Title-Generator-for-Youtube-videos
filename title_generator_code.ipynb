{
 "cells": [
  {
   "cell_type": "markdown",
   "metadata": {},
   "source": [
    "## Data Science Programming Final Project\n",
    "### Title Generation using LSTM\n",
    "Authors:\n",
    "\n",
    "Bindu Krishnouth - U54299242\n",
    "\n",
    "Saranya Chintalapati - U76825685\n",
    "\n",
    "Keerthi Bai reddy - U918889334\n",
    "\n",
    "Suraj Varma Dantuluri - U00256679\n",
    " \n",
    "Mukesh Sai Bodapati - U29479766"
   ]
  },
  {
   "cell_type": "markdown",
   "metadata": {},
   "source": [
    "### Import Packages"
   ]
  },
  {
   "cell_type": "code",
   "execution_count": 22,
   "metadata": {},
   "outputs": [],
   "source": [
    "import pandas as pd\n",
    "import string\n",
    "import numpy as np\n",
    "import json\n",
    "\n",
    "from keras.preprocessing.sequence import pad_sequences\n",
    "from keras.layers import Embedding, LSTM, Dense, Dropout\n",
    "from keras.preprocessing.text import Tokenizer\n",
    "from keras.callbacks import EarlyStopping\n",
    "from keras.models import Sequential\n",
    "import keras.utils as ku\n",
    "\n",
    "import tensorflow as tf\n",
    "tf.random.set_seed(20)\n",
    "from numpy.random import seed\n",
    "seed(100)\n"
   ]
  },
  {
   "cell_type": "markdown",
   "metadata": {},
   "source": [
    "### Load the Data"
   ]
  },
  {
   "cell_type": "code",
   "execution_count": 23,
   "metadata": {},
   "outputs": [],
   "source": [
    "#load all the datasets \n",
    "df1 = pd.read_csv('USvideos.csv')\n",
    "df2 = pd.read_csv('CAvideos.csv')\n",
    "df3 = pd.read_csv('GBvideos.csv')\n",
    "\n",
    "#load the datasets containing the category names\n",
    "data1 = json.load(open('US_category_id.json'))\n",
    "data2 = json.load(open('CA_category_id.json'))\n",
    "data3 = json.load(open('GB_category_id.json'))"
   ]
  },
  {
   "cell_type": "markdown",
   "metadata": {},
   "source": [
    "### Data Pre-processing"
   ]
  },
  {
   "cell_type": "code",
   "execution_count": 24,
   "metadata": {},
   "outputs": [],
   "source": [
    "def category_extractor(data):\n",
    "    i_d = [data['items'][i]['id'] for i in range(len(data['items']))]\n",
    "    title = [data['items'][i]['snippet'][\"title\"] for i in range(len(data['items']))]\n",
    "    i_d = list(map(int, i_d))\n",
    "    category = zip(i_d, title)\n",
    "    category = dict(category)\n",
    "    return category\n",
    "\n",
    "#create a new category column by mapping the category names to their id\n",
    "df1['category_title'] = df1['category_id'].map(category_extractor(data1))\n",
    "df2['category_title'] = df2['category_id'].map(category_extractor(data2))\n",
    "df3['category_title'] = df3['category_id'].map(category_extractor(data3))\n",
    "\n",
    "#join the dataframes\n",
    "df = pd.concat([df1, df2, df3], ignore_index=True)\n",
    "\n",
    "#drop rows based on duplicate videos\n",
    "df = df.drop_duplicates('video_id')\n",
    "\n",
    "#collect only titles of entertainment videos\n",
    "#feel free to use any category of video that you want\n",
    "comedy = df[df['category_title'] == 'Comedy']['title']\n",
    "comedy = comedy.tolist()                                                                                                                                                                                                                                                                                                                                                                                                                                                                                              \n",
    "\n",
    "#remove punctuations and convert text to lowercase\n",
    "def clean_text(text):\n",
    "    text = ''.join(e for e in text if e not in string.punctuation).lower()\n",
    "    \n",
    "    text = text.encode('utf8').decode('ascii', 'ignore')\n",
    "    return text\n",
    "\n",
    "corpus = [clean_text(e) for e in comedy]"
   ]
  },
  {
   "cell_type": "code",
   "execution_count": 25,
   "metadata": {},
   "outputs": [
    {
     "data": {
      "text/html": [
       "<div>\n",
       "<style scoped>\n",
       "    .dataframe tbody tr th:only-of-type {\n",
       "        vertical-align: middle;\n",
       "    }\n",
       "\n",
       "    .dataframe tbody tr th {\n",
       "        vertical-align: top;\n",
       "    }\n",
       "\n",
       "    .dataframe thead th {\n",
       "        text-align: right;\n",
       "    }\n",
       "</style>\n",
       "<table border=\"1\" class=\"dataframe\">\n",
       "  <thead>\n",
       "    <tr style=\"text-align: right;\">\n",
       "      <th></th>\n",
       "      <th>video_id</th>\n",
       "      <th>trending_date</th>\n",
       "      <th>title</th>\n",
       "      <th>channel_title</th>\n",
       "      <th>category_id</th>\n",
       "      <th>publish_time</th>\n",
       "      <th>tags</th>\n",
       "      <th>views</th>\n",
       "      <th>likes</th>\n",
       "      <th>dislikes</th>\n",
       "      <th>comment_count</th>\n",
       "      <th>thumbnail_link</th>\n",
       "      <th>comments_disabled</th>\n",
       "      <th>ratings_disabled</th>\n",
       "      <th>video_error_or_removed</th>\n",
       "      <th>description</th>\n",
       "      <th>category_title</th>\n",
       "    </tr>\n",
       "  </thead>\n",
       "  <tbody>\n",
       "    <tr>\n",
       "      <th>0</th>\n",
       "      <td>2kyS6SvSYSE</td>\n",
       "      <td>17.14.11</td>\n",
       "      <td>WE WANT TO TALK ABOUT OUR MARRIAGE</td>\n",
       "      <td>CaseyNeistat</td>\n",
       "      <td>22</td>\n",
       "      <td>2017-11-13T17:13:01.000Z</td>\n",
       "      <td>SHANtell martin</td>\n",
       "      <td>748374</td>\n",
       "      <td>57527</td>\n",
       "      <td>2966</td>\n",
       "      <td>15954</td>\n",
       "      <td>https://i.ytimg.com/vi/2kyS6SvSYSE/default.jpg</td>\n",
       "      <td>False</td>\n",
       "      <td>False</td>\n",
       "      <td>False</td>\n",
       "      <td>SHANTELL'S CHANNEL - https://www.youtube.com/s...</td>\n",
       "      <td>People &amp; Blogs</td>\n",
       "    </tr>\n",
       "    <tr>\n",
       "      <th>1</th>\n",
       "      <td>1ZAPwfrtAFY</td>\n",
       "      <td>17.14.11</td>\n",
       "      <td>The Trump Presidency: Last Week Tonight with J...</td>\n",
       "      <td>LastWeekTonight</td>\n",
       "      <td>24</td>\n",
       "      <td>2017-11-13T07:30:00.000Z</td>\n",
       "      <td>last week tonight trump presidency|\"last week ...</td>\n",
       "      <td>2418783</td>\n",
       "      <td>97185</td>\n",
       "      <td>6146</td>\n",
       "      <td>12703</td>\n",
       "      <td>https://i.ytimg.com/vi/1ZAPwfrtAFY/default.jpg</td>\n",
       "      <td>False</td>\n",
       "      <td>False</td>\n",
       "      <td>False</td>\n",
       "      <td>One year after the presidential election, John...</td>\n",
       "      <td>Entertainment</td>\n",
       "    </tr>\n",
       "    <tr>\n",
       "      <th>2</th>\n",
       "      <td>5qpjK5DgCt4</td>\n",
       "      <td>17.14.11</td>\n",
       "      <td>Racist Superman | Rudy Mancuso, King Bach &amp; Le...</td>\n",
       "      <td>Rudy Mancuso</td>\n",
       "      <td>23</td>\n",
       "      <td>2017-11-12T19:05:24.000Z</td>\n",
       "      <td>racist superman|\"rudy\"|\"mancuso\"|\"king\"|\"bach\"...</td>\n",
       "      <td>3191434</td>\n",
       "      <td>146033</td>\n",
       "      <td>5339</td>\n",
       "      <td>8181</td>\n",
       "      <td>https://i.ytimg.com/vi/5qpjK5DgCt4/default.jpg</td>\n",
       "      <td>False</td>\n",
       "      <td>False</td>\n",
       "      <td>False</td>\n",
       "      <td>WATCH MY PREVIOUS VIDEO ▶ \\n\\nSUBSCRIBE ► http...</td>\n",
       "      <td>Comedy</td>\n",
       "    </tr>\n",
       "    <tr>\n",
       "      <th>3</th>\n",
       "      <td>puqaWrEC7tY</td>\n",
       "      <td>17.14.11</td>\n",
       "      <td>Nickelback Lyrics: Real or Fake?</td>\n",
       "      <td>Good Mythical Morning</td>\n",
       "      <td>24</td>\n",
       "      <td>2017-11-13T11:00:04.000Z</td>\n",
       "      <td>rhett and link|\"gmm\"|\"good mythical morning\"|\"...</td>\n",
       "      <td>343168</td>\n",
       "      <td>10172</td>\n",
       "      <td>666</td>\n",
       "      <td>2146</td>\n",
       "      <td>https://i.ytimg.com/vi/puqaWrEC7tY/default.jpg</td>\n",
       "      <td>False</td>\n",
       "      <td>False</td>\n",
       "      <td>False</td>\n",
       "      <td>Today we find out if Link is a Nickelback amat...</td>\n",
       "      <td>Entertainment</td>\n",
       "    </tr>\n",
       "    <tr>\n",
       "      <th>4</th>\n",
       "      <td>d380meD0W0M</td>\n",
       "      <td>17.14.11</td>\n",
       "      <td>I Dare You: GOING BALD!?</td>\n",
       "      <td>nigahiga</td>\n",
       "      <td>24</td>\n",
       "      <td>2017-11-12T18:01:41.000Z</td>\n",
       "      <td>ryan|\"higa\"|\"higatv\"|\"nigahiga\"|\"i dare you\"|\"...</td>\n",
       "      <td>2095731</td>\n",
       "      <td>132235</td>\n",
       "      <td>1989</td>\n",
       "      <td>17518</td>\n",
       "      <td>https://i.ytimg.com/vi/d380meD0W0M/default.jpg</td>\n",
       "      <td>False</td>\n",
       "      <td>False</td>\n",
       "      <td>False</td>\n",
       "      <td>I know it's been a while since we did this sho...</td>\n",
       "      <td>Entertainment</td>\n",
       "    </tr>\n",
       "  </tbody>\n",
       "</table>\n",
       "</div>"
      ],
      "text/plain": [
       "      video_id trending_date  \\\n",
       "0  2kyS6SvSYSE      17.14.11   \n",
       "1  1ZAPwfrtAFY      17.14.11   \n",
       "2  5qpjK5DgCt4      17.14.11   \n",
       "3  puqaWrEC7tY      17.14.11   \n",
       "4  d380meD0W0M      17.14.11   \n",
       "\n",
       "                                               title          channel_title  \\\n",
       "0                 WE WANT TO TALK ABOUT OUR MARRIAGE           CaseyNeistat   \n",
       "1  The Trump Presidency: Last Week Tonight with J...        LastWeekTonight   \n",
       "2  Racist Superman | Rudy Mancuso, King Bach & Le...           Rudy Mancuso   \n",
       "3                   Nickelback Lyrics: Real or Fake?  Good Mythical Morning   \n",
       "4                           I Dare You: GOING BALD!?               nigahiga   \n",
       "\n",
       "   category_id              publish_time  \\\n",
       "0           22  2017-11-13T17:13:01.000Z   \n",
       "1           24  2017-11-13T07:30:00.000Z   \n",
       "2           23  2017-11-12T19:05:24.000Z   \n",
       "3           24  2017-11-13T11:00:04.000Z   \n",
       "4           24  2017-11-12T18:01:41.000Z   \n",
       "\n",
       "                                                tags    views   likes  \\\n",
       "0                                    SHANtell martin   748374   57527   \n",
       "1  last week tonight trump presidency|\"last week ...  2418783   97185   \n",
       "2  racist superman|\"rudy\"|\"mancuso\"|\"king\"|\"bach\"...  3191434  146033   \n",
       "3  rhett and link|\"gmm\"|\"good mythical morning\"|\"...   343168   10172   \n",
       "4  ryan|\"higa\"|\"higatv\"|\"nigahiga\"|\"i dare you\"|\"...  2095731  132235   \n",
       "\n",
       "   dislikes  comment_count                                  thumbnail_link  \\\n",
       "0      2966          15954  https://i.ytimg.com/vi/2kyS6SvSYSE/default.jpg   \n",
       "1      6146          12703  https://i.ytimg.com/vi/1ZAPwfrtAFY/default.jpg   \n",
       "2      5339           8181  https://i.ytimg.com/vi/5qpjK5DgCt4/default.jpg   \n",
       "3       666           2146  https://i.ytimg.com/vi/puqaWrEC7tY/default.jpg   \n",
       "4      1989          17518  https://i.ytimg.com/vi/d380meD0W0M/default.jpg   \n",
       "\n",
       "   comments_disabled  ratings_disabled  video_error_or_removed  \\\n",
       "0              False             False                   False   \n",
       "1              False             False                   False   \n",
       "2              False             False                   False   \n",
       "3              False             False                   False   \n",
       "4              False             False                   False   \n",
       "\n",
       "                                         description  category_title  \n",
       "0  SHANTELL'S CHANNEL - https://www.youtube.com/s...  People & Blogs  \n",
       "1  One year after the presidential election, John...   Entertainment  \n",
       "2  WATCH MY PREVIOUS VIDEO ▶ \\n\\nSUBSCRIBE ► http...          Comedy  \n",
       "3  Today we find out if Link is a Nickelback amat...   Entertainment  \n",
       "4  I know it's been a while since we did this sho...   Entertainment  "
      ]
     },
     "execution_count": 25,
     "metadata": {},
     "output_type": "execute_result"
    }
   ],
   "source": [
    "df.head()"
   ]
  },
  {
   "cell_type": "code",
   "execution_count": 26,
   "metadata": {},
   "outputs": [
    {
     "data": {
      "text/plain": [
       "array(['People & Blogs', 'Entertainment', 'Comedy',\n",
       "       'Science & Technology', 'Film & Animation', 'News & Politics',\n",
       "       'Sports', 'Music', 'Pets & Animals', 'Education', 'Howto & Style',\n",
       "       'Autos & Vehicles', 'Travel & Events', 'Gaming',\n",
       "       'Nonprofits & Activism', 'Shows', nan, 'Movies'], dtype=object)"
      ]
     },
     "execution_count": 26,
     "metadata": {},
     "output_type": "execute_result"
    }
   ],
   "source": [
    "df['category_title'].unique()"
   ]
  },
  {
   "cell_type": "code",
   "execution_count": 27,
   "metadata": {},
   "outputs": [
    {
     "data": {
      "text/plain": [
       "category_title\n",
       "Entertainment            9730\n",
       "News & Politics          3415\n",
       "People & Blogs           3071\n",
       "Music                    2479\n",
       "Sports                   2422\n",
       "Comedy                   2305\n",
       "Howto & Style            1780\n",
       "Film & Animation         1431\n",
       "Gaming                    966\n",
       "Science & Technology      900\n",
       "Education                 763\n",
       "Pets & Animals            325\n",
       "Autos & Vehicles          310\n",
       "Travel & Events           247\n",
       "Shows                     106\n",
       "Nonprofits & Activism      14\n",
       "Movies                      1\n",
       "Name: count, dtype: int64"
      ]
     },
     "execution_count": 27,
     "metadata": {},
     "output_type": "execute_result"
    }
   ],
   "source": [
    "df['category_title'].value_counts()"
   ]
  },
  {
   "cell_type": "code",
   "execution_count": 28,
   "metadata": {},
   "outputs": [],
   "source": [
    "tokenizer = Tokenizer()\n",
    "def get_sequence_of_tokens(corpus):\n",
    "    # Get tokens\n",
    "    tokenizer.fit_on_texts(corpus)\n",
    "    total_words = len(tokenizer.word_index) + 1\n",
    "\n",
    "    # Convert to sequence of tokens\n",
    "    input_sequences = []\n",
    "    for line in corpus:\n",
    "        token_list = tokenizer.texts_to_sequences([line])[0]\n",
    "        for i in range(1, len(token_list)):\n",
    "            n_gram_sequence = token_list[:i+1]\n",
    "            input_sequences.append(n_gram_sequence)\n",
    "\n",
    "    return input_sequences, total_words\n",
    " \n",
    "inp_sequences, total_words = get_sequence_of_tokens(corpus)"
   ]
  },
  {
   "cell_type": "code",
   "execution_count": 29,
   "metadata": {},
   "outputs": [],
   "source": [
    "from tensorflow.keras.utils import to_categorical\n",
    "\n",
    "def generate_padded_sequences(input_sequences, total_words):\n",
    "    max_sequence_len = max([len(x) for x in input_sequences])\n",
    "    input_sequences = pad_sequences(input_sequences, maxlen=max_sequence_len, padding='pre')\n",
    "    predictors, label = input_sequences[:, :-1], input_sequences[:, -1]\n",
    "    label = ku.to_categorical(label, num_classes=total_words)\n",
    "    return predictors, label, max_sequence_len"
   ]
  },
  {
   "cell_type": "markdown",
   "metadata": {},
   "source": [
    "### Model Architecture"
   ]
  },
  {
   "cell_type": "code",
   "execution_count": 30,
   "metadata": {},
   "outputs": [],
   "source": [
    "from tensorflow.keras.models import Sequential\n",
    "from tensorflow.keras.layers import Embedding, LSTM, Dropout, Dense\n",
    "\n",
    "# Generate padded sequences\n",
    "predictors, label, max_sequence_len = generate_padded_sequences(inp_sequences, total_words)\n",
    "\n",
    "def create_model(max_sequence_len, total_words):\n",
    "    input_len = max_sequence_len - 1\n",
    "    model = Sequential()\n",
    "\n",
    "    # Add Input Embedding Layer\n",
    "    model.add(Embedding(total_words, 10, input_length=input_len))\n",
    "\n",
    "    # Add Hidden Layer 1 — LSTM Layer\n",
    "    model.add(LSTM(100))\n",
    "    model.add(Dropout(0.1))\n",
    "\n",
    "    # Add Output Layer\n",
    "    model.add(Dense(total_words, activation='softmax'))\n",
    "    model.compile(loss='categorical_crossentropy', optimizer='adam')\n",
    "\n",
    "    return model\n"
   ]
  },
  {
   "cell_type": "markdown",
   "metadata": {},
   "source": [
    "### Train Model"
   ]
  },
  {
   "cell_type": "code",
   "execution_count": 31,
   "metadata": {},
   "outputs": [
    {
     "name": "stdout",
     "output_type": "stream",
     "text": [
      "Epoch 1/20\n",
      "432/432 [==============================] - 11s 20ms/step - loss: 7.8731\n",
      "Epoch 2/20\n",
      "432/432 [==============================] - 9s 20ms/step - loss: 7.3716\n",
      "Epoch 3/20\n",
      "432/432 [==============================] - 8s 20ms/step - loss: 7.1656\n",
      "Epoch 4/20\n",
      "432/432 [==============================] - 8s 19ms/step - loss: 6.9356\n",
      "Epoch 5/20\n",
      "432/432 [==============================] - 8s 19ms/step - loss: 6.6763\n",
      "Epoch 6/20\n",
      "432/432 [==============================] - 8s 18ms/step - loss: 6.4284\n",
      "Epoch 7/20\n",
      "432/432 [==============================] - 8s 18ms/step - loss: 6.1937\n",
      "Epoch 8/20\n",
      "432/432 [==============================] - 8s 18ms/step - loss: 5.9710\n",
      "Epoch 9/20\n",
      "432/432 [==============================] - 8s 18ms/step - loss: 5.7539\n",
      "Epoch 10/20\n",
      "432/432 [==============================] - 8s 18ms/step - loss: 5.5509\n",
      "Epoch 11/20\n",
      "432/432 [==============================] - 8s 18ms/step - loss: 5.3530\n",
      "Epoch 12/20\n",
      "432/432 [==============================] - 10s 23ms/step - loss: 5.1658\n",
      "Epoch 13/20\n",
      "432/432 [==============================] - 10s 24ms/step - loss: 4.9876\n",
      "Epoch 14/20\n",
      "432/432 [==============================] - 8s 18ms/step - loss: 4.8172\n",
      "Epoch 15/20\n",
      "432/432 [==============================] - 8s 18ms/step - loss: 4.6551\n",
      "Epoch 16/20\n",
      "432/432 [==============================] - 8s 18ms/step - loss: 4.4920\n",
      "Epoch 17/20\n",
      "432/432 [==============================] - 8s 18ms/step - loss: 4.3435\n",
      "Epoch 18/20\n",
      "432/432 [==============================] - 8s 18ms/step - loss: 4.1997\n",
      "Epoch 19/20\n",
      "432/432 [==============================] - 8s 18ms/step - loss: 4.0653\n",
      "Epoch 20/20\n",
      "432/432 [==============================] - 8s 18ms/step - loss: 3.9233\n"
     ]
    }
   ],
   "source": [
    "model = create_model(max_sequence_len, total_words)\n",
    "history = model.fit(predictors, label, epochs=20, verbose=1)  # Set verbose to 1 for progress updates"
   ]
  },
  {
   "cell_type": "code",
   "execution_count": 32,
   "metadata": {},
   "outputs": [
    {
     "data": {
      "image/png": "[encoded data removed]",
      "text/plain": [
       "<Figure size 640x480 with 1 Axes>"
      ]
     },
     "metadata": {},
     "output_type": "display_data"
    }
   ],
   "source": [
    "import matplotlib.pyplot as plt\n",
    "\n",
    "# Plot the training loss\n",
    "plt.plot(history.history['loss'])\n",
    "plt.title('Model Loss')\n",
    "plt.xlabel('Epoch')\n",
    "plt.ylabel('Loss')\n",
    "plt.show()"
   ]
  },
  {
   "cell_type": "markdown",
   "metadata": {},
   "source": [
    "### Text Generation"
   ]
  },
  {
   "cell_type": "code",
   "execution_count": 33,
   "metadata": {},
   "outputs": [],
   "source": [
    "def generate_text(seed_text, next_words, model, max_sequence_len):\n",
    "    for _ in range(next_words):\n",
    "        token_list = tokenizer.texts_to_sequences([seed_text])[0]\n",
    "        token_list = pad_sequences([token_list], maxlen=max_sequence_len-1, padding='pre')\n",
    "        predicted_probs = model.predict(token_list, verbose=0)\n",
    "\n",
    "        # Find the word with the highest probability\n",
    "        predicted = np.argmax(predicted_probs)\n",
    "\n",
    "        output_word = \"\"\n",
    "        for word, index in tokenizer.word_index.items():\n",
    "            if index == predicted:\n",
    "                output_word = word\n",
    "                break\n",
    "        seed_text += \" \" + output_word\n",
    "\n",
    "    return seed_text.title()\n"
   ]
  },
  {
   "cell_type": "code",
   "execution_count": 34,
   "metadata": {},
   "outputs": [
    {
     "name": "stdout",
     "output_type": "stream",
     "text": [
      "Stand-Up With The Week Tonight With\n"
     ]
    }
   ],
   "source": [
    "print(generate_text(\"Stand-up\", 5, model, max_sequence_len))"
   ]
  },
  {
   "cell_type": "markdown",
   "metadata": {},
   "source": [
    "## Model 2\n",
    "1. Performed L2 Regularization\n",
    "2. Increased the LSTM units to 256\n",
    "3. Increased the dropout rate to 0.2"
   ]
  },
  {
   "cell_type": "code",
   "execution_count": 35,
   "metadata": {},
   "outputs": [
    {
     "name": "stdout",
     "output_type": "stream",
     "text": [
      "Epoch 1/20\n",
      "432/432 [==============================] - 20s 42ms/step - loss: 8.1835\n",
      "Epoch 2/20\n",
      "432/432 [==============================] - 18s 41ms/step - loss: 7.7973\n",
      "Epoch 3/20\n",
      "432/432 [==============================] - 18s 41ms/step - loss: 7.6601\n",
      "Epoch 4/20\n",
      "432/432 [==============================] - 18s 42ms/step - loss: 7.5805\n",
      "Epoch 5/20\n",
      "432/432 [==============================] - 288s 669ms/step - loss: 7.5115\n",
      "Epoch 6/20\n",
      "432/432 [==============================] - 18s 41ms/step - loss: 7.4696\n",
      "Epoch 7/20\n",
      "432/432 [==============================] - 18s 41ms/step - loss: 7.4348\n",
      "Epoch 8/20\n",
      "432/432 [==============================] - 18s 42ms/step - loss: 7.4072\n",
      "Epoch 9/20\n",
      "432/432 [==============================] - 18s 41ms/step - loss: 7.3816\n",
      "Epoch 10/20\n",
      "432/432 [==============================] - 18s 41ms/step - loss: 7.3630\n",
      "Epoch 11/20\n",
      "432/432 [==============================] - 18s 42ms/step - loss: 7.3427\n",
      "Epoch 12/20\n",
      "432/432 [==============================] - 34s 78ms/step - loss: 7.3288\n",
      "Epoch 13/20\n",
      "432/432 [==============================] - 37s 85ms/step - loss: 7.3098\n",
      "Epoch 14/20\n",
      "432/432 [==============================] - 36s 84ms/step - loss: 7.2947\n",
      "Epoch 15/20\n",
      "432/432 [==============================] - 37s 85ms/step - loss: 7.2816\n",
      "Epoch 16/20\n",
      "432/432 [==============================] - 37s 85ms/step - loss: 7.2661\n",
      "Epoch 17/20\n",
      "432/432 [==============================] - 37s 85ms/step - loss: 7.2528\n",
      "Epoch 18/20\n",
      "432/432 [==============================] - 37s 85ms/step - loss: 7.2398\n",
      "Epoch 19/20\n",
      "432/432 [==============================] - 37s 85ms/step - loss: 7.2261\n",
      "Epoch 20/20\n",
      "432/432 [==============================] - 37s 84ms/step - loss: 7.2150\n"
     ]
    }
   ],
   "source": [
    "from tensorflow.keras.models import Sequential\n",
    "from tensorflow.keras.layers import Embedding, LSTM, Dropout, Dense\n",
    "from tensorflow.keras.regularizers import l2\n",
    "\n",
    "# Generate padded sequences\n",
    "predictors, label, max_sequence_len = generate_padded_sequences(inp_sequences, total_words)\n",
    "\n",
    "def create_model(max_sequence_len, total_words):\n",
    "    input_len = max_sequence_len - 1\n",
    "    model = Sequential()\n",
    "\n",
    "    # Add Input Embedding Layer\n",
    "    model.add(Embedding(total_words, 10, input_length=input_len))\n",
    "\n",
    "    # Add Hidden Layer 1 — LSTM Layer\n",
    "    model.add(LSTM(256))\n",
    "    model.add(Dropout(0.2))\n",
    "\n",
    "    # Add Output Layer\n",
    "    model.add(Dense(total_words, activation='softmax', kernel_regularizer=l2(0.01)))\n",
    "    model.compile(loss='categorical_crossentropy', optimizer='adam')\n",
    "\n",
    "    return model\n",
    "\n",
    "model = create_model(max_sequence_len, total_words)\n",
    "history = model.fit(predictors, label, epochs=20, verbose=1)  # Set verbose to 1 for progress updates\n"
   ]
  },
  {
   "cell_type": "code",
   "execution_count": 36,
   "metadata": {},
   "outputs": [
    {
     "data": {
      "image/png": "[encoded data removed]",
      "text/plain": [
       "<Figure size 640x480 with 1 Axes>"
      ]
     },
     "metadata": {},
     "output_type": "display_data"
    }
   ],
   "source": [
    "import matplotlib.pyplot as plt\n",
    "\n",
    "# Plot the training loss\n",
    "plt.plot(history.history['loss'])\n",
    "plt.title('Model Loss')\n",
    "plt.xlabel('Epoch')\n",
    "plt.ylabel('Loss')\n",
    "plt.show()"
   ]
  },
  {
   "cell_type": "code",
   "execution_count": 37,
   "metadata": {},
   "outputs": [],
   "source": [
    "def generate_text(seed_text, next_words, model, max_sequence_len):\n",
    "    for _ in range(next_words):\n",
    "        token_list = tokenizer.texts_to_sequences([seed_text])[0]\n",
    "        token_list = pad_sequences([token_list], maxlen=max_sequence_len-1, padding='pre')\n",
    "        predicted_probs = model.predict(token_list, verbose=0)\n",
    "\n",
    "        # Find the word with the highest probability\n",
    "        predicted = np.argmax(predicted_probs)\n",
    "\n",
    "        output_word = \"\"\n",
    "        for word, index in tokenizer.word_index.items():\n",
    "            if index == predicted:\n",
    "                output_word = word\n",
    "                break\n",
    "        seed_text += \" \" + output_word\n",
    "\n",
    "    return seed_text.title()\n"
   ]
  },
  {
   "cell_type": "code",
   "execution_count": 38,
   "metadata": {},
   "outputs": [
    {
     "name": "stdout",
     "output_type": "stream",
     "text": [
      "Stand-Up With Daily Show\n"
     ]
    }
   ],
   "source": [
    "print(generate_text(\"Stand-up\", 3, model, max_sequence_len))"
   ]
  },
  {
   "cell_type": "markdown",
   "metadata": {},
   "source": [
    "### Model 3\n",
    "1. Added an LSTM Layer with 50 units\n",
    "2. Performed the model with \"rmsprop\" optimizer"
   ]
  },
  {
   "cell_type": "code",
   "execution_count": 39,
   "metadata": {},
   "outputs": [
    {
     "name": "stdout",
     "output_type": "stream",
     "text": [
      "Epoch 1/20\n",
      "432/432 [==============================] - 53s 102ms/step - loss: 7.7893\n",
      "Epoch 2/20\n",
      "432/432 [==============================] - 297s 689ms/step - loss: 7.5974\n",
      "Epoch 3/20\n",
      "432/432 [==============================] - 44s 101ms/step - loss: 7.5653\n",
      "Epoch 4/20\n",
      "432/432 [==============================] - 44s 102ms/step - loss: 7.4970\n",
      "Epoch 5/20\n",
      "432/432 [==============================] - 45s 103ms/step - loss: 7.4175\n",
      "Epoch 6/20\n",
      "432/432 [==============================] - 45s 104ms/step - loss: 7.3425\n",
      "Epoch 7/20\n",
      "432/432 [==============================] - 44s 103ms/step - loss: 7.2775\n",
      "Epoch 8/20\n",
      "432/432 [==============================] - 43s 99ms/step - loss: 7.2176\n",
      "Epoch 9/20\n",
      "432/432 [==============================] - 44s 102ms/step - loss: 7.1737\n",
      "Epoch 10/20\n",
      "432/432 [==============================] - 44s 102ms/step - loss: 7.1388\n",
      "Epoch 11/20\n",
      "432/432 [==============================] - 38s 88ms/step - loss: 7.0968\n",
      "Epoch 12/20\n",
      "432/432 [==============================] - 40s 93ms/step - loss: 7.0675\n",
      "Epoch 13/20\n",
      "432/432 [==============================] - 39s 91ms/step - loss: 7.0363\n",
      "Epoch 14/20\n",
      "432/432 [==============================] - 41s 95ms/step - loss: 6.9977\n",
      "Epoch 15/20\n",
      "432/432 [==============================] - 40s 92ms/step - loss: 6.9628\n",
      "Epoch 16/20\n",
      "432/432 [==============================] - 41s 95ms/step - loss: 6.9294\n",
      "Epoch 17/20\n",
      "432/432 [==============================] - 42s 96ms/step - loss: 6.8966\n",
      "Epoch 18/20\n",
      "432/432 [==============================] - 42s 98ms/step - loss: 6.8687\n",
      "Epoch 19/20\n",
      "432/432 [==============================] - 42s 98ms/step - loss: 6.8359\n",
      "Epoch 20/20\n",
      "432/432 [==============================] - 43s 99ms/step - loss: 6.8075\n"
     ]
    }
   ],
   "source": [
    "from tensorflow.keras.models import Sequential\n",
    "from tensorflow.keras.layers import Embedding, LSTM, Dropout, Dense\n",
    "\n",
    "# Generate padded sequences\n",
    "predictors, label, max_sequence_len = generate_padded_sequences(inp_sequences, total_words)\n",
    "\n",
    "def create_model(max_sequence_len, total_words):\n",
    "    input_len = max_sequence_len - 1\n",
    "    model = Sequential()\n",
    "\n",
    "    #Increase embedding dimension\n",
    "    model.add(Embedding(total_words, 50, input_length=input_len))  \n",
    "\n",
    "    model.add(LSTM(100, return_sequences=True))  # Add another LSTM layer\n",
    "    model.add(LSTM(50))  # Add another LSTM layer\n",
    "\n",
    "    model.add(Dropout(0.2))\n",
    "\n",
    "\n",
    "    # Add Output Layer\n",
    "    model.add(Dense(total_words, activation='softmax')) \n",
    "\n",
    "    model.compile(loss='categorical_crossentropy', optimizer='rmsprop') \n",
    "\n",
    "    return model\n",
    "\n",
    "model = create_model(max_sequence_len, total_words)\n",
    "history = model.fit(predictors, label, epochs=20, verbose=1)  # Set verbose to 1 for progress updates"
   ]
  },
  {
   "cell_type": "code",
   "execution_count": 40,
   "metadata": {},
   "outputs": [
    {
     "data": {
      "image/png": "[encoded data removed]",
      "text/plain": [
       "<Figure size 640x480 with 1 Axes>"
      ]
     },
     "metadata": {},
     "output_type": "display_data"
    }
   ],
   "source": [
    "# Plot the training loss\n",
    "plt.plot(history.history['loss'])\n",
    "plt.title('Model Loss')\n",
    "plt.xlabel('Epoch')\n",
    "plt.ylabel('Loss')\n",
    "plt.show()"
   ]
  },
  {
   "cell_type": "code",
   "execution_count": 41,
   "metadata": {},
   "outputs": [],
   "source": [
    "def generate_text(seed_text, next_words, model, max_sequence_len):\n",
    "    for _ in range(next_words):\n",
    "        token_list = tokenizer.texts_to_sequences([seed_text])[0]\n",
    "        token_list = pad_sequences([token_list], maxlen=max_sequence_len-1, padding='pre')\n",
    "        predicted_probs = model.predict(token_list, verbose=0)\n",
    "\n",
    "        # Find the word with the highest probability\n",
    "        predicted = np.argmax(predicted_probs)\n",
    "\n",
    "        output_word = \"\"\n",
    "        for word, index in tokenizer.word_index.items():\n",
    "            if index == predicted:\n",
    "                output_word = word\n",
    "                break\n",
    "        seed_text += \" \" + output_word\n",
    "\n",
    "    return seed_text.title()\n"
   ]
  },
  {
   "cell_type": "code",
   "execution_count": 42,
   "metadata": {},
   "outputs": [
    {
     "name": "stdout",
     "output_type": "stream",
     "text": [
      "Stand-Up With The Lip Best\n"
     ]
    }
   ],
   "source": [
    "print(generate_text(\"Stand-up\", 4, model, max_sequence_len))"
   ]
  }
 ],
 "metadata": {
  "kernelspec": {
   "display_name": "Python 3",
   "language": "python",
   "name": "python3"
  },
  "language_info": {
   "codemirror_mode": {
    "name": "ipython",
    "version": 3
   },
   "file_extension": ".py",
   "mimetype": "text/x-python",
   "name": "python",
   "nbconvert_exporter": "python",
   "pygments_lexer": "ipython3",
   "version": "3.11.5"
  }
 },
 "nbformat": 4,
 "nbformat_minor": 2
}
